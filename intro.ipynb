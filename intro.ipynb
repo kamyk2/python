{
  "nbformat": 4,
  "nbformat_minor": 0,
  "metadata": {
    "colab": {
      "provenance": [],
      "toc_visible": true,
      "authorship_tag": "ABX9TyN0SXrZIQ7i5f1hUao8c0H3",
      "include_colab_link": true
    },
    "kernelspec": {
      "name": "python3",
      "display_name": "Python 3"
    },
    "language_info": {
      "name": "python"
    }
  },
  "cells": [
    {
      "cell_type": "markdown",
      "metadata": {
        "id": "view-in-github",
        "colab_type": "text"
      },
      "source": [
        "<a href=\"https://colab.research.google.com/github/kamyk2/python/blob/main/intro.ipynb\" target=\"_parent\"><img src=\"https://colab.research.google.com/assets/colab-badge.svg\" alt=\"Open In Colab\"/></a>"
      ]
    },
    {
      "cell_type": "code",
      "execution_count": null,
      "metadata": {
        "colab": {
          "base_uri": "https://localhost:8080/"
        },
        "id": "iPosPkdNSl43",
        "outputId": "ec537377-5408-47e3-ef88-15c8405c42ee"
      },
      "outputs": [
        {
          "output_type": "stream",
          "name": "stdout",
          "text": [
            "hello colab\n"
          ]
        }
      ],
      "source": [
        "print(\"hello colab\")\n",
        "print(\"ala ma kota\")"
      ]
    },
    {
      "cell_type": "markdown",
      "source": [
        "###tekst"
      ],
      "metadata": {
        "id": "ad5FbJ7cTKsn"
      }
    },
    {
      "cell_type": "code",
      "source": [],
      "metadata": {
        "id": "DYpTXPBBTQM3"
      },
      "execution_count": null,
      "outputs": []
    },
    {
      "cell_type": "code",
      "source": [
        "print(\"ala ma kota\")"
      ],
      "metadata": {
        "colab": {
          "base_uri": "https://localhost:8080/"
        },
        "id": "JXhPpjkla7Xh",
        "outputId": "3aa76131-b685-4cff-9902-d276a66bcc8d"
      },
      "execution_count": null,
      "outputs": [
        {
          "output_type": "stream",
          "name": "stdout",
          "text": [
            "ala ma kota\n"
          ]
        }
      ]
    },
    {
      "cell_type": "code",
      "source": [],
      "metadata": {
        "id": "WMhkLrHUa1z8"
      },
      "execution_count": null,
      "outputs": []
    }
  ]
}